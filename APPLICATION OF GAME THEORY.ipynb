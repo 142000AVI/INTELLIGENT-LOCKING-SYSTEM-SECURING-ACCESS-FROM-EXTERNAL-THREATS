{
 "cells": [
  {
   "cell_type": "markdown",
   "id": "35edc31f-e7b6-4486-b8dc-e49cbf737bb2",
   "metadata": {},
   "source": [
    "TIC-TAC-TOE (X-O) GAME"
   ]
  },
  {
   "cell_type": "code",
   "execution_count": 13,
   "id": "c103722d",
   "metadata": {},
   "outputs": [
    {
     "name": "stdin",
     "output_type": "stream",
     "text": [
      "\n",
      "Enter the position (0-8) where you want to place X:  0\n"
     ]
    },
    {
     "name": "stdout",
     "output_type": "stream",
     "text": [
      "\n",
      "Opponent (X) placed at: 0\n",
      "X |   |  \n",
      "---------\n",
      "  |   |  \n",
      "---------\n",
      "  |   |  \n",
      "\n",
      "Your turn (O) placed at: 4\n",
      "X |   |  \n",
      "---------\n",
      "  | O |  \n",
      "---------\n",
      "  |   |  \n"
     ]
    },
    {
     "name": "stdin",
     "output_type": "stream",
     "text": [
      "\n",
      "Enter the position (0-8) where you want to place X:  3\n"
     ]
    },
    {
     "name": "stdout",
     "output_type": "stream",
     "text": [
      "\n",
      "Opponent (X) placed at: 3\n",
      "X |   |  \n",
      "---------\n",
      "X | O |  \n",
      "---------\n",
      "  |   |  \n",
      "\n",
      "Your turn (O) placed at: 6\n",
      "X |   |  \n",
      "---------\n",
      "X | O |  \n",
      "---------\n",
      "O |   |  \n"
     ]
    },
    {
     "name": "stdin",
     "output_type": "stream",
     "text": [
      "\n",
      "Enter the position (0-8) where you want to place X:  2\n"
     ]
    },
    {
     "name": "stdout",
     "output_type": "stream",
     "text": [
      "\n",
      "Opponent (X) placed at: 2\n",
      "X |   | X\n",
      "---------\n",
      "X | O |  \n",
      "---------\n",
      "O |   |  \n",
      "\n",
      "Your turn (O) placed at: 1\n",
      "X | O | X\n",
      "---------\n",
      "X | O |  \n",
      "---------\n",
      "O |   |  \n"
     ]
    },
    {
     "name": "stdin",
     "output_type": "stream",
     "text": [
      "\n",
      "Enter the position (0-8) where you want to place X:  7\n"
     ]
    },
    {
     "name": "stdout",
     "output_type": "stream",
     "text": [
      "\n",
      "Opponent (X) placed at: 7\n",
      "X | O | X\n",
      "---------\n",
      "X | O |  \n",
      "---------\n",
      "O | X |  \n",
      "\n",
      "Your turn (O) placed at: 5\n",
      "X | O | X\n",
      "---------\n",
      "X | O | O\n",
      "---------\n",
      "O | X |  \n"
     ]
    },
    {
     "name": "stdin",
     "output_type": "stream",
     "text": [
      "\n",
      "Enter the position (0-8) where you want to place X:  8\n"
     ]
    },
    {
     "name": "stdout",
     "output_type": "stream",
     "text": [
      "\n",
      "Opponent (X) placed at: 8\n",
      "X | O | X\n",
      "---------\n",
      "X | O | O\n",
      "---------\n",
      "O | X | X\n",
      "\n",
      "It's a draw!\n",
      "\n",
      "It's a draw!\n"
     ]
    }
   ],
   "source": [
    "# Function to print the Tic-Tac-Toe board\n",
    "def print_board(board):\n",
    "    for i in range(0, 9, 3):\n",
    "        print(board[i] + ' | ' + board[i+1] + ' | ' + board[i+2])\n",
    "        if i < 6:\n",
    "            print(\"---------\")\n",
    "\n",
    "# Function to check if there's a winner\n",
    "def check_winner(board, player):\n",
    "    win_conditions = [(0, 1, 2), (3, 4, 5), (6, 7, 8),  # Rows\n",
    "                      (0, 3, 6), (1, 4, 7), (2, 5, 8),  # Columns\n",
    "                      (0, 4, 8), (2, 4, 6)]             # Diagonals\n",
    "\n",
    "    for condition in win_conditions:\n",
    "        if board[condition[0]] == board[condition[1]] == board[condition[2]] == player:\n",
    "            return True\n",
    "    return False\n",
    "\n",
    "# Minimax algorithm to evaluate the best move\n",
    "def minimax(board, is_maximizing):\n",
    "    if check_winner(board, 'X'):\n",
    "        return -1  # Opponent (X) wins\n",
    "    elif check_winner(board, 'O'):\n",
    "        return 1   # We (O) win\n",
    "    elif ' ' not in board:\n",
    "        return 0   # It's a draw\n",
    "\n",
    "    if is_maximizing:  # O's turn (our turn)\n",
    "        best_score = -float('inf')\n",
    "        for i in range(9):\n",
    "            if board[i] == ' ':\n",
    "                board[i] = 'O'\n",
    "                score = minimax(board, False)\n",
    "                board[i] = ' '  # Undo move\n",
    "                best_score = max(score, best_score)\n",
    "        return best_score\n",
    "    else:  # X's turn (opponent's turn)\n",
    "        best_score = float('inf')\n",
    "        for i in range(9):\n",
    "            if board[i] == ' ':\n",
    "                board[i] = 'X'\n",
    "                score = minimax(board, True)\n",
    "                board[i] = ' '  # Undo move\n",
    "                best_score = min(score, best_score)\n",
    "        return best_score\n",
    "\n",
    "# Function to determine the best move for O\n",
    "def best_move(board):\n",
    "    best_score = -float('inf')\n",
    "    move = -1\n",
    "    for i in range(9):\n",
    "        if board[i] == ' ':\n",
    "            board[i] = 'O'  # Try move\n",
    "            score = minimax(board, False)\n",
    "            board[i] = ' '  # Undo move\n",
    "            if score > best_score:\n",
    "                best_score = score\n",
    "                move = i\n",
    "    return move\n",
    "\n",
    "# Main game loop\n",
    "def play_game():\n",
    "    board = [' ' for _ in range(9)]  # Initialize empty board\n",
    "    while ' ' in board and not check_winner(board, 'X') and not check_winner(board, 'O'):\n",
    "        # User places X\n",
    "        while True:\n",
    "            try:\n",
    "                opponent_move = int(input(\"\\nEnter the position (0-8) where you want to place X: \"))\n",
    "                if board[opponent_move] == ' ':\n",
    "                    board[opponent_move] = 'X'\n",
    "                    break\n",
    "                else:\n",
    "                    print(\"Position already taken, choose another spot.\")\n",
    "            except (ValueError, IndexError):\n",
    "                print(\"Invalid input! Enter a number between 0 and 8.\")\n",
    "        print(\"\\nOpponent (X) placed at:\", opponent_move)\n",
    "        print_board(board)\n",
    "        if check_winner(board, 'X'):\n",
    "            print(\"\\nX wins!\")\n",
    "            break\n",
    "        # Our turn (O) \n",
    "        move = best_move(board)\n",
    "        if move == -1:\n",
    "            print(\"\\nIt's a draw!\")\n",
    "            break\n",
    "        board[move] = 'O'\n",
    "        print(\"\\nYour turn (O) placed at:\", move)\n",
    "        print_board(board)\n",
    "        \n",
    "        if check_winner(board, 'O'):\n",
    "            print(\"\\nO wins!\")\n",
    "            break\n",
    "            \n",
    "    if ' ' not in board and not check_winner(board, 'X') and not check_winner(board, 'O'):\n",
    "        print(\"\\nIt's a draw!\")\n",
    "# Run the game\n",
    "play_game()"
   ]
  },
  {
   "cell_type": "code",
   "execution_count": null,
   "id": "b52069fc-de7c-4e40-86d0-e04303c1bc28",
   "metadata": {},
   "outputs": [],
   "source": []
  },
  {
   "cell_type": "markdown",
   "id": "540a06a9-b4c7-4984-bf4b-7450584e4ecd",
   "metadata": {},
   "source": [
    "APPLICATION CODE: SMART LOCKING SYSTEM"
   ]
  },
  {
   "cell_type": "code",
   "execution_count": null,
   "id": "314dfd85-917c-406b-90de-9effe44a1028",
   "metadata": {},
   "outputs": [],
   "source": []
  },
  {
   "cell_type": "code",
   "execution_count": null,
   "id": "4810e67b-8d94-422e-9d97-dd79f9a9ed5e",
   "metadata": {},
   "outputs": [],
   "source": []
  },
  {
   "cell_type": "code",
   "execution_count": 12,
   "id": "bd7633c6-7a38-43be-b58e-20815f559386",
   "metadata": {},
   "outputs": [
    {
     "name": "stdout",
     "output_type": "stream",
     "text": [
      "Select the mode: 'Owner' or 'Foreign'\n"
     ]
    },
    {
     "name": "stdin",
     "output_type": "stream",
     "text": [
      "Enter your choice:  Foreign\n"
     ]
    },
    {
     "name": "stdout",
     "output_type": "stream",
     "text": [
      "\n",
      "Starting Round 1...\n",
      "Enter move 1 (digit between 0 and 9): \n"
     ]
    },
    {
     "name": "stdin",
     "output_type": "stream",
     "text": [
      " 1\n"
     ]
    },
    {
     "name": "stdout",
     "output_type": "stream",
     "text": [
      "Enter move 2 (digit between 0 and 9): \n"
     ]
    },
    {
     "name": "stdin",
     "output_type": "stream",
     "text": [
      " 4\n"
     ]
    },
    {
     "name": "stdout",
     "output_type": "stream",
     "text": [
      "Enter move 3 (digit between 0 and 9): \n"
     ]
    },
    {
     "name": "stdin",
     "output_type": "stream",
     "text": [
      " 5\n"
     ]
    },
    {
     "name": "stdout",
     "output_type": "stream",
     "text": [
      "Enter move 4 (digit between 0 and 9): \n"
     ]
    },
    {
     "name": "stdin",
     "output_type": "stream",
     "text": [
      " 9\n"
     ]
    },
    {
     "name": "stdout",
     "output_type": "stream",
     "text": [
      "Move 1 of Round 1: Player's move (Digit 1)\n",
      "Grid after Player's (Computer's) move:\n",
      "[[0 0 0 0]\n",
      " [0 0 0 0]\n",
      " [0 0 0 0]\n",
      " [1 0 0 0]]\n",
      "Grid after AI's move:\n",
      "[[0 0 0 0]\n",
      " [0 0 0 0]\n",
      " [0 0 0 0]\n",
      " [1 0 0 2]]\n",
      "Move 2 of Round 1: Player's move (Digit 4)\n",
      "Grid after Player's (Computer's) move:\n",
      "[[0 0 0 0]\n",
      " [0 0 0 0]\n",
      " [0 0 0 0]\n",
      " [1 0 1 2]]\n",
      "Grid after AI's move:\n",
      "[[0 0 0 0]\n",
      " [0 0 0 0]\n",
      " [0 0 0 2]\n",
      " [1 0 1 2]]\n",
      "Move 3 of Round 1: Player's move (Digit 5)\n",
      "Grid after Player's (Computer's) move:\n",
      "[[0 0 0 0]\n",
      " [0 0 0 0]\n",
      " [0 0 0 2]\n",
      " [1 1 1 2]]\n",
      "Grid after AI's move:\n",
      "[[0 0 0 0]\n",
      " [0 0 0 2]\n",
      " [0 0 0 2]\n",
      " [1 1 1 2]]\n",
      "Move 4 of Round 1: Player's move (Digit 9)\n",
      "Grid after Player's (Computer's) move:\n",
      "[[0 0 0 0]\n",
      " [0 0 0 2]\n",
      " [0 0 1 2]\n",
      " [1 1 1 2]]\n",
      "Grid after AI's move:\n",
      "[[0 0 0 2]\n",
      " [0 0 0 2]\n",
      " [0 0 1 2]\n",
      " [1 1 1 2]]\n",
      "AI wins!\n",
      "Grid after Round 1\n",
      "[[0 0 0 2]\n",
      " [0 0 0 2]\n",
      " [0 0 1 2]\n",
      " [1 1 1 2]]\n",
      "Entered Password is incorrect\n",
      "Starting Round 2...\n",
      "=======================================\n",
      "\n",
      "Starting Round 2...\n",
      "Enter move 1 (digit between 0 and 9): \n"
     ]
    },
    {
     "name": "stdin",
     "output_type": "stream",
     "text": [
      " 5\n"
     ]
    },
    {
     "name": "stdout",
     "output_type": "stream",
     "text": [
      "Enter move 2 (digit between 0 and 9): \n"
     ]
    },
    {
     "name": "stdin",
     "output_type": "stream",
     "text": [
      " 4\n"
     ]
    },
    {
     "name": "stdout",
     "output_type": "stream",
     "text": [
      "Enter move 3 (digit between 0 and 9): \n"
     ]
    },
    {
     "name": "stdin",
     "output_type": "stream",
     "text": [
      " 3\n"
     ]
    },
    {
     "name": "stdout",
     "output_type": "stream",
     "text": [
      "Enter move 4 (digit between 0 and 9): \n"
     ]
    },
    {
     "name": "stdin",
     "output_type": "stream",
     "text": [
      " 2\n"
     ]
    },
    {
     "name": "stdout",
     "output_type": "stream",
     "text": [
      "Move 1 of Round 2: Player's move (Digit 5)\n",
      "Grid after Player's (Computer's) move:\n",
      "[[0 0 0 0]\n",
      " [0 0 0 0]\n",
      " [0 0 0 0]\n",
      " [0 1 0 0]]\n",
      "Grid after AI's move:\n",
      "[[0 0 0 0]\n",
      " [0 0 0 0]\n",
      " [0 0 0 0]\n",
      " [0 1 0 2]]\n",
      "Move 2 of Round 2: Player's move (Digit 4)\n",
      "Grid after Player's (Computer's) move:\n",
      "[[0 0 0 0]\n",
      " [0 0 0 0]\n",
      " [0 0 0 1]\n",
      " [0 1 0 2]]\n",
      "Grid after AI's move:\n",
      "[[0 0 0 0]\n",
      " [0 0 0 2]\n",
      " [0 0 0 1]\n",
      " [0 1 0 2]]\n",
      "Move 3 of Round 2: Player's move (Digit 3)\n",
      "Grid after Player's (Computer's) move:\n",
      "[[0 0 0 0]\n",
      " [0 0 0 2]\n",
      " [0 0 0 1]\n",
      " [1 1 0 2]]\n",
      "Grid after AI's move:\n",
      "[[0 0 0 2]\n",
      " [0 0 0 2]\n",
      " [0 0 0 1]\n",
      " [1 1 0 2]]\n",
      "Move 4 of Round 2: Player's move (Digit 2)\n",
      "Grid after Player's (Computer's) move:\n",
      "[[0 0 0 2]\n",
      " [0 0 0 2]\n",
      " [0 1 0 1]\n",
      " [1 1 0 2]]\n",
      "Grid after AI's move:\n",
      "[[0 0 0 2]\n",
      " [0 0 0 2]\n",
      " [0 1 0 1]\n",
      " [1 1 0 2]]\n",
      "Grid after Round 2\n",
      "[[0 0 0 2]\n",
      " [0 0 0 2]\n",
      " [0 1 0 1]\n",
      " [1 1 0 2]]\n",
      "Entered Password is incorrect\n",
      "Starting Round 3...\n",
      "=======================================\n",
      "\n",
      "Starting Round 3...\n",
      "Enter move 1 (digit between 0 and 9): \n"
     ]
    },
    {
     "name": "stdin",
     "output_type": "stream",
     "text": [
      " 1\n"
     ]
    },
    {
     "name": "stdout",
     "output_type": "stream",
     "text": [
      "Enter move 2 (digit between 0 and 9): \n"
     ]
    },
    {
     "name": "stdin",
     "output_type": "stream",
     "text": [
      " 2\n"
     ]
    },
    {
     "name": "stdout",
     "output_type": "stream",
     "text": [
      "Enter move 3 (digit between 0 and 9): \n"
     ]
    },
    {
     "name": "stdin",
     "output_type": "stream",
     "text": [
      " 3\n"
     ]
    },
    {
     "name": "stdout",
     "output_type": "stream",
     "text": [
      "Enter move 4 (digit between 0 and 9): \n"
     ]
    },
    {
     "name": "stdin",
     "output_type": "stream",
     "text": [
      " 4\n"
     ]
    },
    {
     "name": "stdout",
     "output_type": "stream",
     "text": [
      "Move 1 of Round 3: Player's move (Digit 1)\n",
      "Grid after Player's (Computer's) move:\n",
      "[[0 0 0 0]\n",
      " [0 0 0 0]\n",
      " [0 0 0 0]\n",
      " [0 0 1 0]]\n",
      "Grid after AI's move:\n",
      "[[0 0 0 0]\n",
      " [0 0 0 0]\n",
      " [0 0 0 0]\n",
      " [0 0 1 2]]\n",
      "Move 2 of Round 3: Player's move (Digit 2)\n",
      "Grid after Player's (Computer's) move:\n",
      "[[0 0 0 0]\n",
      " [0 0 0 0]\n",
      " [0 0 1 0]\n",
      " [0 0 1 2]]\n",
      "Grid after AI's move:\n",
      "[[0 0 0 0]\n",
      " [0 0 0 0]\n",
      " [0 0 1 2]\n",
      " [0 0 1 2]]\n",
      "Move 3 of Round 3: Player's move (Digit 3)\n",
      "Grid after Player's (Computer's) move:\n",
      "[[0 0 0 0]\n",
      " [0 0 1 0]\n",
      " [0 0 1 2]\n",
      " [0 0 1 2]]\n",
      "Grid after AI's move:\n",
      "[[0 0 2 0]\n",
      " [0 0 1 0]\n",
      " [0 0 1 2]\n",
      " [0 0 1 2]]\n",
      "Move 4 of Round 3: Player's move (Digit 4)\n",
      "Grid after Player's (Computer's) move:\n",
      "[[0 0 2 0]\n",
      " [0 0 1 1]\n",
      " [0 0 1 2]\n",
      " [0 0 1 2]]\n",
      "Grid after AI's move:\n",
      "[[0 0 2 2]\n",
      " [0 0 1 1]\n",
      " [0 0 1 2]\n",
      " [0 0 1 2]]\n",
      "Grid after Round 3\n",
      "[[0 0 2 2]\n",
      " [0 0 1 1]\n",
      " [0 0 1 2]\n",
      " [0 0 1 2]]\n",
      "Entered Password is incorrect\n",
      "Starting Round 4...\n",
      "=======================================\n",
      "\n",
      "Starting Round 4...\n",
      "Enter move 1 (digit between 0 and 9): \n"
     ]
    },
    {
     "name": "stdin",
     "output_type": "stream",
     "text": [
      " 9\n"
     ]
    },
    {
     "name": "stdout",
     "output_type": "stream",
     "text": [
      "Enter move 2 (digit between 0 and 9): \n"
     ]
    },
    {
     "name": "stdin",
     "output_type": "stream",
     "text": [
      " 3\n"
     ]
    },
    {
     "name": "stdout",
     "output_type": "stream",
     "text": [
      "Enter move 3 (digit between 0 and 9): \n"
     ]
    },
    {
     "name": "stdin",
     "output_type": "stream",
     "text": [
      " 6\n"
     ]
    },
    {
     "name": "stdout",
     "output_type": "stream",
     "text": [
      "Enter move 4 (digit between 0 and 9): \n"
     ]
    },
    {
     "name": "stdin",
     "output_type": "stream",
     "text": [
      " 1\n"
     ]
    },
    {
     "name": "stdout",
     "output_type": "stream",
     "text": [
      "Move 1 of Round 4: Player's move (Digit 9)\n",
      "Grid after Player's (Computer's) move:\n",
      "[[0 0 0 0]\n",
      " [0 0 0 0]\n",
      " [0 0 0 0]\n",
      " [1 0 0 0]]\n",
      "Grid after AI's move:\n",
      "[[0 0 0 0]\n",
      " [0 0 0 0]\n",
      " [0 0 0 0]\n",
      " [1 0 0 2]]\n",
      "Move 2 of Round 4: Player's move (Digit 3)\n",
      "Grid after Player's (Computer's) move:\n",
      "[[0 0 0 0]\n",
      " [0 0 0 0]\n",
      " [0 0 0 0]\n",
      " [1 1 0 2]]\n",
      "Grid after AI's move:\n",
      "[[0 0 0 0]\n",
      " [0 0 0 0]\n",
      " [0 0 0 2]\n",
      " [1 1 0 2]]\n",
      "Move 3 of Round 4: Player's move (Digit 6)\n",
      "Grid after Player's (Computer's) move:\n",
      "[[0 0 0 0]\n",
      " [0 0 0 1]\n",
      " [0 0 0 2]\n",
      " [1 1 0 2]]\n",
      "Grid after AI's move:\n",
      "[[0 0 0 2]\n",
      " [0 0 0 1]\n",
      " [0 0 0 2]\n",
      " [1 1 0 2]]\n",
      "Move 4 of Round 4: Player's move (Digit 1)\n",
      "Grid after Player's (Computer's) move:\n",
      "[[0 0 0 2]\n",
      " [0 0 0 1]\n",
      " [0 1 0 2]\n",
      " [1 1 0 2]]\n",
      "Grid after AI's move:\n",
      "[[0 0 0 2]\n",
      " [0 0 0 1]\n",
      " [0 1 0 2]\n",
      " [1 1 0 2]]\n",
      "Grid after Round 4\n",
      "[[0 0 0 2]\n",
      " [0 0 0 1]\n",
      " [0 1 0 2]\n",
      " [1 1 0 2]]\n",
      "Entered Password is incorrect\n",
      "\n",
      "=======================================\n",
      "Phone locked, try again in 30 seconds.\n"
     ]
    }
   ],
   "source": [
    "# Main selection logic\n",
    "print(\"Select the mode: 'Owner' or 'Foreign'\")\n",
    "mode = input(\"Enter your choice: \").strip().lower()\n",
    "if mode == \"owner\":\n",
    "    # Owner Algorithm Code\n",
    "    import random\n",
    "    import numpy as np\n",
    "\n",
    "    def print_grid(grid):\n",
    "        print(grid)\n",
    "    # Function to check if there's a winning combination (4 consecutive numbers horizontally, vertically, or diagonally)\n",
    "    def check_winner(grid):\n",
    "        # Check for horizontal wins\n",
    "        for r in range(4):\n",
    "            for c in range(1):\n",
    "                if all(grid[r, c + i] != 0 and grid[r, c] == grid[r, c + i] for i in range(4)):\n",
    "                    return True\n",
    "    \n",
    "        # Check for vertical wins\n",
    "        for c in range(4):\n",
    "            for r in range(1):\n",
    "                if all(grid[r + i, c] != 0 and grid[r, c] == grid[r + i, c] for i in range(4)):\n",
    "                    return True\n",
    "    \n",
    "        # Check for diagonal (down-right) wins\n",
    "        for r in range(1):\n",
    "            for c in range(1):\n",
    "                if all(grid[r + i, c + i] != 0 and grid[r, c] == grid[r + i, c + i] for i in range(4)):\n",
    "                    return True\n",
    "    \n",
    "        # Check for diagonal (up-right) wins\n",
    "        for r in range(3, 4):\n",
    "            for c in range(1):\n",
    "                if all(grid[r - i, c + i] != 0 and grid[r, c] == grid[r - i, c + i] for i in range(4)):\n",
    "                    return True\n",
    "        return False\n",
    "    \n",
    "    # Function to place the owner's move (consecutive or non-consecutive)\n",
    "    def place_move(owner_moves, grid):\n",
    "        # Check if moves are consecutive (4 consecutive dice)\n",
    "        if all(owner_moves[i] == owner_moves[i-1] + 1 for i in range(1, 4)):\n",
    "            # Place all moves in a random column\n",
    "            column = random.randint(0, 3)\n",
    "            for move in owner_moves:\n",
    "                for row in range(3, -1, -1):  # Find the lowest empty row in the column\n",
    "                    if grid[row, column] == 0:\n",
    "                        grid[row, column] = 1  # Place the \"dice\" (1)\n",
    "                        break\n",
    "            print(\"Phone unlocked!\")\n",
    "            return True\n",
    "        else:\n",
    "            # For non-consecutive moves, place two in the same column and the rest in different columns\n",
    "            random.shuffle(owner_moves)  # Randomize order to mimic non-consecutive input\n",
    "            \n",
    "            # Step 1: Select a column to place two of the moves\n",
    "            column = random.randint(0, 3)\n",
    "            placed = 0\n",
    "            for move in owner_moves[:2]:  # Place the first two moves in the same column\n",
    "                for row in range(3, -1, -1):\n",
    "                    if grid[row, column] == 0:\n",
    "                        grid[row, column] = 1\n",
    "                        placed += 1\n",
    "                        break\n",
    "    \n",
    "            # Step 2: Place the remaining two moves in separate columns\n",
    "            used_columns = [column]\n",
    "            for move in owner_moves[2:]:\n",
    "                placed_in_new_column = False\n",
    "                while not placed_in_new_column:\n",
    "                    new_column = random.randint(0, 3)\n",
    "                    if new_column not in used_columns:  # Ensure new column is not already used\n",
    "                        for row in range(3, -1, -1):\n",
    "                            if grid[row, new_column] == 0:\n",
    "                                grid[row, new_column] = 1\n",
    "                                used_columns.append(new_column)\n",
    "                                placed_in_new_column = True\n",
    "                                break\n",
    "                    if len(used_columns) == 4:  # If all columns are used\n",
    "                        break\n",
    "            \n",
    "            # After placing non-consecutive moves, check if there's a winning combination\n",
    "            if check_winner(grid):\n",
    "                print(\"Game Over! A winning combination was formed.\")\n",
    "                return True\n",
    "            \n",
    "            print(\"Incorrect password. Try again.\")\n",
    "            return False\n",
    "    \n",
    "    # Function to reset the grid after each round\n",
    "    def reset_grid():\n",
    "        return np.zeros((4, 4), dtype=int)\n",
    "    \n",
    "    # Main game loop\n",
    "    def play_game():\n",
    "        rounds = 4  # Number of rounds for the owner to try unlocking the phone\n",
    "        for round_num in range(1, rounds + 1):\n",
    "            print(f\"\\nStarting Round {round_num}...\")\n",
    "            grid = reset_grid()  # Reset grid at the beginning of each round\n",
    "            \n",
    "            # Get player's moves for the round\n",
    "            owner_moves = []\n",
    "            for move_num in range(4):\n",
    "                try:\n",
    "                    player_move = int(input(f\"Enter move {move_num + 1} (digit between 0 and 9): \"))\n",
    "                    if player_move < 0 or player_move > 9:\n",
    "                        print(\"Invalid input. Please enter a number between 0 and 9.\")\n",
    "                        continue\n",
    "                    owner_moves.append(player_move)\n",
    "                except ValueError:\n",
    "                    print(\"Invalid input. Please enter a valid digit.\")\n",
    "                    continue\n",
    "    \n",
    "            # Place the move and print the grid\n",
    "            if place_move(owner_moves, grid):\n",
    "                print_grid(grid)\n",
    "                break\n",
    "            else:\n",
    "                print_grid(grid)\n",
    "            \n",
    "            # After each round, check if the grid is valid (no winning combination from non-consecutive moves)\n",
    "            if check_winner(grid):\n",
    "                print(\"Game Over! A winning combination was formed.\")\n",
    "                break\n",
    "            \n",
    "            if round_num == 4:\n",
    "                print(\"Phone is locked, try again after 30 seconds.\")\n",
    "                break\n",
    "    \n",
    "    # Start the Owner game\n",
    "    play_game()\n",
    "\n",
    "\n",
    "elif mode == \"foreign\":\n",
    "    import numpy as np\n",
    "    import random\n",
    "    \n",
    "    # Initialize the 4x4 grid\n",
    "    grid = np.zeros((4, 4), dtype=int)\n",
    "    \n",
    "    # Function to check if there's a winner (Player)\n",
    "    def check_winner(grid, player):\n",
    "        for r in range(4):\n",
    "            for c in range(4):\n",
    "                if c + 3 < 4 and all(grid[r, c + i] == player for i in range(4)):  # Check row\n",
    "                    return True\n",
    "                if r + 3 < 4 and all(grid[r + i, c] == player for i in range(4)):  # Check column\n",
    "                    return True\n",
    "                if r + 3 < 4 and c + 3 < 4 and all(grid[r + i, c + i] == player for i in range(4)):  # Diagonal (down-right)\n",
    "                    return True\n",
    "                if r - 3 >= 0 and c + 3 < 4 and all(grid[r - i, c + i] == player for i in range(4)):  # Diagonal (up-right)\n",
    "                    return True\n",
    "        return False\n",
    "    \n",
    "    # Function to check for possible winning moves for the player\n",
    "    def check_possible_winning_moves(grid, player):\n",
    "        winning_moves = []\n",
    "        for c in range(4):\n",
    "            for r in range(3, -1, -1):  # Check from bottom to top\n",
    "                if grid[r, c] == 0:  # If there's an empty spot\n",
    "                    grid[r, c] = player  # Simulate the player's move\n",
    "                    if check_winner(grid, player):\n",
    "                        winning_moves.append(c)\n",
    "                    grid[r, c] = 0  # Undo the move\n",
    "                    break\n",
    "        return winning_moves\n",
    "    \n",
    "    # Function to block the player's winning move by the AI\n",
    "    def ai_block_move(grid, player):\n",
    "        winning_moves = check_possible_winning_moves(grid, player)\n",
    "        if winning_moves:\n",
    "            return winning_moves[0]\n",
    "        return -1\n",
    "    \n",
    "    # Function to get AI's move\n",
    "    def ai_move(grid):\n",
    "        ai_winning_moves = check_possible_winning_moves(grid, 2)\n",
    "        if ai_winning_moves:\n",
    "            return ai_winning_moves[0]\n",
    "        return ai_block_move(grid, 1)\n",
    "    \n",
    "    # Function to place the die in the grid\n",
    "    def place_die(grid, column, player):\n",
    "        for r in range(3, -1, -1):  # From bottom to top\n",
    "            if grid[r, column] == 0:\n",
    "                grid[r, column] = player\n",
    "                return\n",
    "    \n",
    "    # Function to simulate a round of play\n",
    "    def play_round(player_moves, grid, round_num):\n",
    "        consecutive_sequence = []  # Track the sequence of player moves\n",
    "    \n",
    "        for move_num, player_move in enumerate(player_moves, start=1):\n",
    "            print(f\"Move {move_num} of Round {round_num}: Player's move (Digit {player_move})\")\n",
    "            \n",
    "            # Check if player move extends a valid consecutive sequence\n",
    "            if not consecutive_sequence or player_move == consecutive_sequence[-1] + 1:\n",
    "                consecutive_sequence.append(player_move)\n",
    "            else:\n",
    "                consecutive_sequence = [player_move]  # Reset sequence if broken\n",
    "    \n",
    "            if round_num == 1 and len(consecutive_sequence) == move_num and move_num <= 3:\n",
    "        # For Round 1: If user enters 3 consecutive numbers, put dice in the 0th column\n",
    "                column = 0\n",
    "            elif round_num == 2 and len(consecutive_sequence) == move_num and move_num <= 3:\n",
    "        # For Round 2: If user enters 3 consecutive numbers, put dice in the 1st column\n",
    "                column = 1\n",
    "            elif round_num == 3 and len(consecutive_sequence) == move_num and move_num <= 3:\n",
    "        # For Round 3: If user enters 3 consecutive numbers, put dice in the 2nd column\n",
    "                column = 2\n",
    "            elif round_num == 4 and len(consecutive_sequence) == move_num and move_num <= 3:\n",
    "        # For Round 4: If user enters 3 consecutive numbers, put dice in the last row (row 3)\n",
    "                column = move_num - 1  # Use the diagonal logic to place dice in last row\n",
    "            else:\n",
    "        # For non-consecutive numbers, place randomly in one of the columns\n",
    "                column = np.random.choice([0, 1, 2, 3])\n",
    "            place_die(grid, column, 1)  # Player's move (Computer places die)\n",
    "            \n",
    "            print(\"Grid after Player's (Computer's) move:\")\n",
    "            print(grid)\n",
    "    \n",
    "            if check_winner(grid, 1):\n",
    "                print(\"Computer wins (Player's move)! Phone unlocked.\")\n",
    "                # Continue playing the round, but don't break the game\n",
    "                # return True   # This would break the game, so we skip it\n",
    "    \n",
    "            # AI's move\n",
    "            ai_column = ai_move(grid)\n",
    "            place_die(grid, ai_column, 2)\n",
    "    \n",
    "            print(\"Grid after AI's move:\")\n",
    "            print(grid)\n",
    "    \n",
    "            if check_winner(grid, 2):\n",
    "                print(\"AI wins!\")\n",
    "                # Continue playing the round, but don't break the game\n",
    "                # return True   # This would break the game, so we skip it\n",
    "    \n",
    "        return False\n",
    " # Function to check if there are any remaining moves in the grid\n",
    "    def check_remaining_moves(grid):\n",
    "        for r in range(4):\n",
    "            for c in range(4):\n",
    "                if grid[r, c] == 0:  # If any cell is empty\n",
    "                    return True\n",
    "        return False\n",
    "\n",
    "    \n",
    "    # Main game loop\n",
    "    def play_game():\n",
    "        global grid\n",
    "        rounds = 4\n",
    "        for round_num in range(1, rounds + 1):\n",
    "            print(f\"\\nStarting Round {round_num}...\")\n",
    "            player_moves = []\n",
    "            for move_num in range(4):\n",
    "                print(f\"Enter move {move_num + 1} (digit between 0 and 9): \")\n",
    "                try:\n",
    "                    player_move = int(input())\n",
    "                    if player_move < 0 or player_move > 9:\n",
    "                        print(\"Invalid input. Please enter a number between 0 and 9.\")\n",
    "                        continue\n",
    "                    player_moves.append(player_move)\n",
    "                except ValueError:\n",
    "                    print(\"Invalid input. Please enter a valid digit.\")\n",
    "                    continue\n",
    "    \n",
    "            # Play the round and print the result after each move\n",
    "            play_round(player_moves, grid, round_num)\n",
    "    \n",
    "            # Print grid after round ends\n",
    "            print(\"Grid after Round\", round_num)\n",
    "            print(grid)\n",
    "    \n",
    "            # Additional messages\n",
    "            print(\"Entered Password is incorrect\")\n",
    "            print(f\"Starting Round {round_num + 1}...\" if round_num < 4 else \"\")\n",
    "    \n",
    "            if not check_remaining_moves(grid):\n",
    "                print(\"No more moves possible. Game over.\")\n",
    "                break\n",
    "\n",
    "            grid = np.zeros((4, 4), dtype=int)  # Reset grid for the next round\n",
    "            print(\"=======================================\")\n",
    "    \n",
    "        # After all rounds are completed\n",
    "        print(\"Phone locked, try again in 30 seconds.\")\n",
    "    \n",
    "    # Start the game\n",
    "    play_game()\n",
    "\n",
    "else:\n",
    "    print(\"Invalid choice! Please restart the program and choose either 'Owner' or 'Foreign'.\")"
   ]
  },
  {
   "cell_type": "code",
   "execution_count": null,
   "id": "7259c93f-23a0-4e0c-93f6-4ac0ad402810",
   "metadata": {},
   "outputs": [],
   "source": []
  }
 ],
 "metadata": {
  "kernelspec": {
   "display_name": "Python 3 (ipykernel)",
   "language": "python",
   "name": "python3"
  },
  "language_info": {
   "codemirror_mode": {
    "name": "ipython",
    "version": 3
   },
   "file_extension": ".py",
   "mimetype": "text/x-python",
   "name": "python",
   "nbconvert_exporter": "python",
   "pygments_lexer": "ipython3",
   "version": "3.12.4"
  }
 },
 "nbformat": 4,
 "nbformat_minor": 5
}
